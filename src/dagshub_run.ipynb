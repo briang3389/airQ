{
  "nbformat": 4,
  "nbformat_minor": 0,
  "metadata": {
    "colab": {
      "provenance": []
    },
    "kernelspec": {
      "name": "python3",
      "display_name": "Python 3"
    },
    "language_info": {
      "name": "python"
    }
  },
  "cells": [
    {
      "cell_type": "markdown",
      "source": [
        "## Notesbook for downloading repo and running it through DagsHub!!!"
      ],
      "metadata": {
        "id": "jfGsS1n_dC7M"
      }
    },
    {
      "cell_type": "code",
      "source": [
        "import requests\n",
        "import getpass\n",
        "import datetime\n"
      ],
      "metadata": {
        "id": "TpJGCYypKHd2"
      },
      "execution_count": 1,
      "outputs": []
    },
    {
      "cell_type": "code",
      "source": [
        "#@title Set Environment Variables\n",
        "\n",
        "#@markdown Enter the repository name for the project:\n",
        "REPO_NAME= \"AirQ\" #@param {type:\"string\"}\n",
        "\n",
        "#@markdown Enter the username of your DAGsHub account:\n",
        "USER_NAME = \"Abuynits\" #@param {type:\"string\"}\n",
        "\n",
        "#@markdown Enter the email for your DAGsHub account:\n",
        "EMAIL = \"abuynits@gmail.com\" #@param {type:\"string\"}\n",
        "\n",
        "#@markdown ---"
      ],
      "metadata": {
        "id": "oHd7mfuVKJDD"
      },
      "execution_count": 2,
      "outputs": []
    },
    {
      "cell_type": "code",
      "source": [
        "# create a personal access token\n",
        "r = requests.post('https://dagshub.com/api/v1/user/tokens', \n",
        "                  json={\"name\": f\"colab-token-{datetime.datetime.now()}\"}, \n",
        "                  auth=(USER_NAME, getpass.getpass('DAGsHub password:')))\n",
        "r.raise_for_status()\n",
        "TOKEN=r.json()['sha1']"
      ],
      "metadata": {
        "colab": {
          "base_uri": "https://localhost:8080/"
        },
        "id": "c8YO8jm2KHHJ",
        "outputId": "d547c796-f0b7-454b-b6b0-10df8bceb954"
      },
      "execution_count": 3,
      "outputs": [
        {
          "name": "stdout",
          "output_type": "stream",
          "text": [
            "DAGsHub password:··········\n"
          ]
        }
      ]
    },
    {
      "cell_type": "code",
      "execution_count": 9,
      "metadata": {
        "colab": {
          "base_uri": "https://localhost:8080/"
        },
        "id": "WH6MoIGLJzc4",
        "outputId": "90aad7fa-40e3-4005-c54c-3fa9302315f2"
      },
      "outputs": [
        {
          "output_type": "stream",
          "name": "stdout",
          "text": [
            "fatal: destination path 'airQ' already exists and is not an empty directory.\n",
            "/content/airQ\n"
          ]
        }
      ],
      "source": [
        "!git clone https://dagshub.com/Abuynits/airQ.git # clone the repo\n",
        "%cd airQ"
      ]
    },
    {
      "cell_type": "code",
      "source": [
        "# install all libraries\n",
        "!pip install dvc &> /dev/null\n",
        "!pip install dagshub &> /dev/null\n",
        "!pip3 install mlflow &> /dev/null"
      ],
      "metadata": {
        "id": "V4cmA_DWMtfI"
      },
      "execution_count": 10,
      "outputs": []
    },
    {
      "cell_type": "code",
      "source": [
        "!dvc remote modify origin --local auth basic \n",
        "!dvc remote modify origin --local user Abuynits \n",
        "!dvc remote modify origin --local password {TOKEN}"
      ],
      "metadata": {
        "colab": {
          "base_uri": "https://localhost:8080/"
        },
        "id": "T_NovlExNTqc",
        "outputId": "4d74f750-bba0-4c88-a95a-7f986d3c4574"
      },
      "execution_count": 11,
      "outputs": [
        {
          "output_type": "stream",
          "name": "stdout",
          "text": [
            "\u001b[0m\u001b[0m\u001b[0m"
          ]
        }
      ]
    },
    {
      "cell_type": "code",
      "source": [
        "!dvc pull --remote origin"
      ],
      "metadata": {
        "colab": {
          "base_uri": "https://localhost:8080/"
        },
        "id": "Dt_ZF3r-NFNd",
        "outputId": "fef0d192-8046-42e8-e664-d66023ff8b7f"
      },
      "execution_count": 12,
      "outputs": [
        {
          "output_type": "stream",
          "name": "stdout",
          "text": [
            "Transferring:   0% 0/6 [00:00<?, ?file/s{'info': ''}]  \n",
            "!\u001b[A\n",
            "  0%|          |https://dagshub.com/Abuynits/airQ.d0.00/? [00:00<?,        ?B/s]\u001b[A\n",
            "Transferring:  17% 1/6 [00:00<00:00,  5.92file/s{'info': ''}]\n",
            "                                                                                \u001b[A\n",
            "!\u001b[A\n",
            "  0%|          |https://dagshub.com/Abuynits/airQ.d0.00/? [00:00<?,        ?B/s]\u001b[A\n",
            "  0%|          |https://dagshub.com/Abuynits/airQ.d0.00/? [00:00<?,        ?B/s]\u001b[A\n",
            "\n",
            "!\u001b[A\u001b[A\n",
            "\n",
            "  0%|          |https://dagshub.com/Abuynits/airQ.d0.00/? [00:00<?,        ?B/s]\u001b[A\u001b[A\n",
            "\n",
            "Transferring:  33% 2/6 [00:00<00:00,  6.43file/s{'info': ''}]\n",
            "\n",
            "                                                                                \u001b[A\u001b[A\n",
            "\n",
            "!\u001b[A\u001b[A\n",
            "\n",
            "  0%|          |https://dagshub.com/Abuynits/airQ.d0.00/? [00:00<?,        ?B/s]\u001b[A\u001b[A\n",
            "\n",
            "  0%|          |https://dagshub.com/Abuynits/airQ.d0.00/? [00:00<?,        ?B/s]\u001b[A\u001b[A\n",
            "\n",
            "                                                                                \u001b[A\u001b[A\n",
            "\n",
            "!\u001b[A\u001b[A\n",
            "\n",
            "  0%|          |https://dagshub.com/Abuynits/airQ.d0.00/? [00:00<?,        ?B/s]\u001b[A\u001b[A\n",
            "\n",
            "  0%|          |https://dagshub.com/Abuynits/airQ.d0.00/? [00:00<?,        ?B/s]\u001b[A\u001b[A\n",
            "                                                                                \u001b[A\n",
            "!\u001b[A\n",
            "  0%|          |https://dagshub.com/Abuynits/airQ.d0.00/? [00:00<?,        ?B/s]\u001b[A\n",
            "  0%|          |https://dagshub.com/Abuynits/airQ.d0.00/? [00:00<?,        ?B/s]\u001b[A\n",
            "\n",
            "  0%|          |https://dagshub.com/Abuynits/a55.3k/? [00:00<00:00,     529kB/s]\u001b[A\u001b[A\n",
            "Transferring:  83% 5/6 [00:00<00:00, 10.32file/s{'info': ''}]\n",
            "                                                                                \u001b[A\n",
            "\n",
            "  0%|          |https://dagshub.com/Abuynits/ai159k/? [00:00<00:00,     819kB/s]\u001b[A\u001b[A\n",
            "\n",
            "Transferring: 100% 6/6 [00:00<00:00,  7.74file/s{'info': ''}]\n",
            "\n",
            "Checkout:   0% 0/1 [00:00<?, ?file/s{'info': ''}]\n",
            "!\u001b[A\n",
            "  0%|          |/content/airQ/.dvc/cache/64/6cdad7f0.00/? [00:00<?,        ?B/s]\u001b[A\n",
            "  0% 0.00/9.62k [00:00<?, ?B/s{'info': ''}]                                     \u001b[A\n",
            "Checkout: 100% 1/1 [00:00<00:00, 51.61file/s{'info': ''}]\n",
            "!\u001b[A\n",
            "  0%|          |/content/airQ/.dvc/cache/ff/ac951f10.00/? [00:00<?,        ?B/s]\u001b[A\n",
            "  0% 0.00/1.24M [00:00<?, ?B/s{'info': ''}]                                     \u001b[A\n",
            "  0% Checkout|          |2/? [00:00<00:00, 53.15file/s]  \n",
            "!\u001b[A\n",
            "  0%|          |/content/airQ/.dvc/cache/5c/30f50f00.00/? [00:00<?,        ?B/s]\u001b[A\n",
            "  0% 0.00/58.6k [00:00<?, ?B/s{'info': ''}]                                     \u001b[A\n",
            "  0% Checkout|          |3/? [00:00<00:00, 57.83file/s]\n",
            "!\u001b[A\n",
            "  0%|          |/content/airQ/.dvc/cache/f4/91fd46a0.00/? [00:00<?,        ?B/s]\u001b[A\n",
            "  0% 0.00/877k [00:00<?, ?B/s{'info': ''}]                                      \u001b[A\n",
            "  0% Checkout|          |4/? [00:00<00:00, 60.12file/s]\n",
            "!\u001b[A\n",
            "  0%|          |/content/airQ/.dvc/cache/8d/81bf38f0.00/? [00:00<?,        ?B/s]\u001b[A\n",
            "  0% 0.00/14.7k [00:00<?, ?B/s{'info': ''}]                                     \u001b[A\n",
            "  0% Checkout|          |5/? [00:00<00:00, 62.64file/s]\n",
            "!\u001b[A\n",
            "  0%|          |/content/airQ/.dvc/cache/0a/6fcb0090.00/? [00:00<?,        ?B/s]\u001b[A\n",
            "  0% 0.00/219k [00:00<?, ?B/s{'info': ''}]                                      \u001b[A\n",
            "\u001b[32mA\u001b[0m       data/model.pkl\n",
            "\u001b[32mA\u001b[0m       data/AirQualityUCI.xlsx\n",
            "\u001b[32mA\u001b[0m       data/processed_train_lookback.npy\n",
            "\u001b[32mA\u001b[0m       data/processed_train_prediction.npy\n",
            "\u001b[32mA\u001b[0m       data/processed_validation_lookback.npy\n",
            "\u001b[32mA\u001b[0m       data/processed_validation_prediction.npy\n",
            "6 files added and 6 files fetched\n",
            "\u001b[0m"
          ]
        }
      ]
    },
    {
      "cell_type": "code",
      "source": [
        "!python /content/airQ/src/featurization.py # use this command to generate your numpy arrays for training!"
      ],
      "metadata": {
        "colab": {
          "base_uri": "https://localhost:8080/"
        },
        "id": "D4gUKpiLPWKe",
        "outputId": "8893a9c5-7b1c-4fa5-8499-d21e3ba529fa"
      },
      "execution_count": 13,
      "outputs": [
        {
          "output_type": "stream",
          "name": "stdout",
          "text": [
            "number of rows: 9357\n",
            "shuffle data: False\n",
            "[[0.09322034]]\n",
            "[[0.09322034]]\n",
            "train_x (7485, 5, 3)\n",
            "train_y (7485, 1, 1)\n",
            "valid_x (1867, 5, 3)\n",
            "valid_y (1867, 1, 1)\n"
          ]
        }
      ]
    },
    {
      "cell_type": "code",
      "source": [
        "!python /content/airQ/src/train_model.py # use this to train the model, modify the src/constants.py file accordingly!"
      ],
      "metadata": {
        "colab": {
          "base_uri": "https://localhost:8080/"
        },
        "id": "dYTAGavUPMwH",
        "outputId": "8467bd03-113c-4517-ca9d-de78d64e9a79"
      },
      "execution_count": 14,
      "outputs": [
        {
          "output_type": "stream",
          "name": "stdout",
          "text": [
            "seq2seq(\n",
            "  (_enc): encoder_lstm(\n",
            "    (_lstm): LSTM(3, 4, num_layers=2)\n",
            "    (_drop): Dropout(p=0.0, inplace=False)\n",
            "  )\n",
            "  (_dec): decoder_lstm(\n",
            "    (_lstm): LSTM(3, 4, num_layers=2)\n",
            "    (_l_in): Linear(in_features=4, out_features=3, bias=True)\n",
            "    (_l_out): Linear(in_features=4, out_features=1, bias=True)\n",
            "  )\n",
            ")\n",
            "total trainable parameters: 628\n",
            "seq2seq\n",
            "(7485, 5, 3)\n",
            "(7485, 1, 1)\n",
            "(1867, 5, 3)\n",
            "(1867, 1, 1)\n",
            "validation batches: 1867\n",
            "train batches: 7485\n",
            "batches in valid_dl: 234\n",
            "batches in train_dl: 936\n",
            "====Train DS====\n",
            " train seq: torch.Size([8, 5, 3])\n",
            " test seq torch.Size([8, 1, 1])\n",
            " Input seq: tensor([[0.2373, 0.6467, 0.2267],\n",
            "        [0.1864, 0.6443, 0.2267],\n",
            "        [0.1356, 0.6420, 0.2267],\n",
            "        [0.0678, 0.6396, 0.2267],\n",
            "        [0.0508, 0.6372, 0.2267]])\n",
            " Out seq: tensor([[0.1017]])\n",
            " Input seq: tensor([[0.0847, 0.1860, 0.2267],\n",
            "        [0.1271, 0.2400, 0.2267],\n",
            "        [0.0678, 0.1758, 0.2267],\n",
            "        [0.0508, 0.1393, 0.2267],\n",
            "        [0.0508, 0.1522, 0.2267]])\n",
            " Out seq: tensor([[0.2407]])\n",
            "====Validation DS====\n",
            " train seq: torch.Size([8, 5, 3])\n",
            " test seq torch.Size([8, 1, 1])\n",
            " Input seq: tensor([[0.0508, 0.1330, 0.2267],\n",
            "        [0.0847, 0.1652, 0.2267],\n",
            "        [0.0847, 0.1759, 0.2267],\n",
            "        [0.0932, 0.1806, 0.2267],\n",
            "        [0.1610, 0.2589, 0.2267]])\n",
            " Out seq: tensor([[0.1780]])\n",
            " Input seq: tensor([[0.0847, 0.1652, 0.2267],\n",
            "        [0.0847, 0.1759, 0.2267],\n",
            "        [0.0932, 0.1806, 0.2267],\n",
            "        [0.1610, 0.2589, 0.2267],\n",
            "        [0.1780, 0.2623, 0.2267]])\n",
            " Out seq: tensor([[0.1186]])\n",
            " Input seq: tensor([[0.0847, 0.1759, 0.2267],\n",
            "        [0.0932, 0.1806, 0.2267],\n",
            "        [0.1610, 0.2589, 0.2267],\n",
            "        [0.1780, 0.2623, 0.2267],\n",
            "        [0.1186, 0.1898, 0.2267]])\n",
            " Out seq: tensor([[0.0932]])\n",
            " Input seq: tensor([[0.0932, 0.1806, 0.2267],\n",
            "        [0.1610, 0.2589, 0.2267],\n",
            "        [0.1780, 0.2623, 0.2267],\n",
            "        [0.1186, 0.1898, 0.2267],\n",
            "        [0.0932, 0.1867, 0.2267]])\n",
            " Out seq: tensor([[0.1186]])\n",
            "epoch 0: avg train loss: 0.008566811763518914 avg val loss: 0.004404307312469404\n",
            "epoch 1: avg train loss: 0.003467035179523802 avg val loss: 0.004046267389671073\n",
            "epoch 2: avg train loss: 0.0032277649206273644 avg val loss: 0.003908259635242065\n"
          ]
        }
      ]
    },
    {
      "cell_type": "markdown",
      "source": [
        "paste your MLFLOW tracking URI to check ML progress\n",
        "\n",
        "`dvc repro` only reproduce the feature extraction and training only if the output is different!\n",
        "\n",
        "Paste your URI from MLflow"
      ],
      "metadata": {
        "id": "mNNC82PRcTT0"
      }
    },
    {
      "cell_type": "code",
      "source": [
        "!MLFLOW_TRACKING_URI=https://dagshub.com/Abuynits/airQ.mlflow \\\n",
        "MLFLOW_TRACKING_USERNAME={USER_NAME} \\\n",
        "MLFLOW_TRACKING_PASSWORD={TOKEN}  \\\n",
        "dvc repro"
      ],
      "metadata": {
        "colab": {
          "base_uri": "https://localhost:8080/"
        },
        "id": "ijWQc42PYn8N",
        "outputId": "63fedcdc-66c7-406c-b538-34557b02e4c8"
      },
      "execution_count": 43,
      "outputs": [
        {
          "output_type": "stream",
          "name": "stdout",
          "text": [
            "\r!\rIf DVC froze, see `hardlink_lock` in <\u001b[36mhttps://man.dvc.org/config#core\u001b[39m>\r                                                                      \r'data/AirQualityUCI.xlsx.dvc' didn't change, skipping\n",
            "Stage 'featurization' didn't change, skipping\n",
            "Running stage 'train_model':\n",
            "> python src/train_model.py\n",
            "seq2seq(\n",
            "  (_enc): encoder_lstm(\n",
            "    (_lstm): LSTM(3, 4, num_layers=2)\n",
            "    (_drop): Dropout(p=0.0, inplace=False)\n",
            "  )\n",
            "  (_dec): decoder_lstm(\n",
            "    (_lstm): LSTM(3, 4, num_layers=2)\n",
            "    (_l_in): Linear(in_features=4, out_features=3, bias=True)\n",
            "    (_l_out): Linear(in_features=4, out_features=1, bias=True)\n",
            "  )\n",
            ")\n",
            "total trainable parameters: 628\n",
            "seq2seq\n",
            "(7485, 5, 3)\n",
            "(7485, 1, 1)\n",
            "(1867, 5, 3)\n",
            "(1867, 1, 1)\n",
            "validation batches: 1867\n",
            "train batches: 7485\n",
            "batches in valid_dl: 234\n",
            "batches in train_dl: 936\n",
            "====Train DS====\n",
            " train seq: torch.Size([8, 5, 3])\n",
            " test seq torch.Size([8, 1, 1])\n",
            " Input seq: tensor([[0.2458, 0.4465, 0.2267],\n",
            "        [0.3559, 0.4887, 0.2267],\n",
            "        [0.2881, 0.3966, 0.2267],\n",
            "        [0.2034, 0.3233, 0.2267],\n",
            "        [0.1441, 0.2946, 0.2267]])\n",
            " Out seq: tensor([[0.2288]])\n",
            " Input seq: tensor([[0.1864, 0.3704, 0.2267],\n",
            "        [0.1441, 0.3463, 0.2267],\n",
            "        [0.1102, 0.2700, 0.2267],\n",
            "        [0.0763, 0.2039, 0.2267],\n",
            "        [0.0763, 0.2197, 0.2267]])\n",
            " Out seq: tensor([[0.1017]])\n",
            "====Validation DS====\n",
            " train seq: torch.Size([8, 5, 3])\n",
            " test seq torch.Size([8, 1, 1])\n",
            " Input seq: tensor([[0.0508, 0.1330, 0.2267],\n",
            "        [0.0847, 0.1652, 0.2267],\n",
            "        [0.0847, 0.1759, 0.2267],\n",
            "        [0.0932, 0.1806, 0.2267],\n",
            "        [0.1610, 0.2589, 0.2267]])\n",
            " Out seq: tensor([[0.1780]])\n",
            " Input seq: tensor([[0.0847, 0.1652, 0.2267],\n",
            "        [0.0847, 0.1759, 0.2267],\n",
            "        [0.0932, 0.1806, 0.2267],\n",
            "        [0.1610, 0.2589, 0.2267],\n",
            "        [0.1780, 0.2623, 0.2267]])\n",
            " Out seq: tensor([[0.1186]])\n",
            " Input seq: tensor([[0.0847, 0.1759, 0.2267],\n",
            "        [0.0932, 0.1806, 0.2267],\n",
            "        [0.1610, 0.2589, 0.2267],\n",
            "        [0.1780, 0.2623, 0.2267],\n",
            "        [0.1186, 0.1898, 0.2267]])\n",
            " Out seq: tensor([[0.0932]])\n",
            " Input seq: tensor([[0.0932, 0.1806, 0.2267],\n",
            "        [0.1610, 0.2589, 0.2267],\n",
            "        [0.1780, 0.2623, 0.2267],\n",
            "        [0.1186, 0.1898, 0.2267],\n",
            "        [0.0932, 0.1867, 0.2267]])\n",
            " Out seq: tensor([[0.1186]])\n",
            "Traceback (most recent call last):\n",
            "  File \"src/train_model.py\", line 96, in <module>\n",
            "    avg_train_loss = train_epoch(train_dl, e)\n",
            "  File \"src/train_model.py\", line 55, in train_epoch\n",
            "    loss.backward()\n",
            "  File \"/usr/local/lib/python3.8/dist-packages/torch/_tensor.py\", line 488, in backward\n",
            "    torch.autograd.backward(\n",
            "  File \"/usr/local/lib/python3.8/dist-packages/torch/autograd/__init__.py\", line 197, in backward\n",
            "    Variable._execution_engine.run_backward(  # Calls into the C++ engine to run the backward pass\n",
            "KeyboardInterrupt\n",
            "\u001b[31mERROR\u001b[39m: failed to reproduce 'train_model': failed to run: python src/train_model.py, exited with -2\n",
            "\u001b[0m"
          ]
        }
      ]
    }
  ]
}