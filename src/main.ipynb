{
  "cells": [
    {
      "cell_type": "markdown",
      "metadata": {
        "id": "qIqdAxBGn9j5"
      },
      "source": [
        "# AirQ Google Collab ☁️"
      ]
    },
    {
      "cell_type": "markdown",
      "metadata": {
        "id": "mqSIiWsRKdi7"
      },
      "source": [
        "# Configure DAGsHub & Git"
      ]
    },
    {
      "cell_type": "code",
      "execution_count": 1,
      "metadata": {
        "id": "Sdco6DJEr1Hs"
      },
      "outputs": [],
      "source": [
        "import requests\n",
        "import getpass\n",
        "import datetime"
      ]
    },
    {
      "cell_type": "code",
      "execution_count": 2,
      "metadata": {
        "cellView": "form",
        "id": "_v3Pnf5XqgJS"
      },
      "outputs": [],
      "source": [
        "#@title Set Environment Variables\n",
        "\n",
        "#@markdown Enter the repository name for the project:\n",
        "REPO_NAME= \"AirQ\" #@param {type:\"string\"}\n",
        "\n",
        "#@markdown Enter the username of your DAGsHub account:\n",
        "USER_NAME = \"Abuynits\" #@param {type:\"string\"}\n",
        "\n",
        "#@markdown Enter the email for your DAGsHub account:\n",
        "EMAIL = \"abuynits@gmail.com\" #@param {type:\"string\"}\n",
        "\n",
        "#@markdown ---"
      ]
    },
    {
      "cell_type": "code",
      "execution_count": 3,
      "metadata": {
        "colab": {
          "base_uri": "https://localhost:8080/"
        },
        "id": "wa6xePsDH6gs",
        "outputId": "1743571e-0587-4730-b290-c6f972ca4b73"
      },
      "outputs": [
        {
          "name": "stdout",
          "output_type": "stream",
          "text": [
            "DAGsHub password:··········\n"
          ]
        }
      ],
      "source": [
        "r = requests.post('https://dagshub.com/api/v1/user/tokens', \n",
        "                  json={\"name\": f\"colab-token-{datetime.datetime.now()}\"}, \n",
        "                  auth=(USER_NAME, getpass.getpass('DAGsHub password:')))\n",
        "r.raise_for_status()\n",
        "TOKEN=r.json()['sha1']"
      ]
    },
    {
      "cell_type": "markdown",
      "metadata": {
        "id": "Z-KHaV-h9CnD"
      },
      "source": [
        "**Configure Git**"
      ]
    },
    {
      "cell_type": "code",
      "execution_count": 4,
      "metadata": {
        "id": "Q1CPZP15Npnj"
      },
      "outputs": [],
      "source": [
        "!git config --global user.email {EMAIL}\n",
        "!git config --global user.name {USER_NAME}"
      ]
    },
    {
      "cell_type": "markdown",
      "metadata": {
        "id": "WPNKFBEFTlkH"
      },
      "source": [
        "**Clone the Repository**"
      ]
    },
    {
      "cell_type": "code",
      "execution_count": 5,
      "metadata": {
        "colab": {
          "base_uri": "https://localhost:8080/"
        },
        "id": "IZdQl7CgCf9x",
        "outputId": "a6b6ece5-6ccd-4976-d6b8-49add96d9e13"
      },
      "outputs": [
        {
          "output_type": "stream",
          "name": "stdout",
          "text": [
            "Cloning into 'boilermakeX'...\n",
            "remote: Enumerating objects: 58, done.\u001b[K\n",
            "remote: Counting objects: 100% (58/58), done.\u001b[K\n",
            "remote: Compressing objects: 100% (53/53), done.\u001b[K\n",
            "remote: Total 58 (delta 20), reused 0 (delta 0), pack-reused 0\u001b[K\n",
            "Unpacking objects: 100% (58/58), 3.05 MiB | 11.78 MiB/s, done.\n",
            "Cloning into 'AirQ'...\n",
            "remote: Enumerating objects: 154, done.\u001b[K\n",
            "remote: Counting objects: 100% (154/154), done.\u001b[K\n",
            "remote: Compressing objects: 100% (136/136), done.\u001b[K\n",
            "remote: Total 154 (delta 65), reused 0 (delta 0), pack-reused 0\u001b[K\n",
            "Receiving objects: 100% (154/154), 919.83 KiB | 6.34 MiB/s, done.\n",
            "Resolving deltas: 100% (65/65), done.\n",
            "/content/AirQ\n"
          ]
        }
      ],
      "source": [
        "!git clone https://dagshub.com/Abuynits/boilermakeX.git\n",
        "!git clone https://dagshub.com/briang3389/AirQ.git\n",
        "%cd AirQ"
      ]
    },
    {
      "cell_type": "markdown",
      "metadata": {
        "id": "LTW-E5g1k_Ie"
      },
      "source": [
        "## Imports"
      ]
    },
    {
      "cell_type": "code",
      "execution_count": 6,
      "metadata": {
        "id": "1akGHiuPe4KM"
      },
      "outputs": [],
      "source": [
        "import pandas as pd\n",
        "import os\n",
        "import numpy as np\n",
        "from pandas import DataFrame\n",
        "import torch\n",
        "import torch.nn as nn\n",
        "import torch.nn.functional as F\n",
        "import torch.optim as optimizer\n",
        "from matplotlib import pyplot as plt\n",
        "from torchvision import datasets, transforms\n",
        "from torch.utils.data import Dataset\n",
        "from torch.utils.data import DataLoader\n",
        "from sklearn.preprocessing import MinMaxScaler\n",
        "import matplotlib.pyplot as plt\n",
        "import random"
      ]
    },
    {
      "cell_type": "code",
      "execution_count": 7,
      "metadata": {
        "colab": {
          "base_uri": "https://localhost:8080/"
        },
        "id": "egUNaXBfGoyS",
        "outputId": "7e6f41ed-f40f-4a7f-ed43-ba9ac753212a"
      },
      "outputs": [
        {
          "output_type": "stream",
          "name": "stdout",
          "text": [
            "Sun Jan 22 05:00:32 2023       \n",
            "+-----------------------------------------------------------------------------+\n",
            "| NVIDIA-SMI 460.32.03    Driver Version: 460.32.03    CUDA Version: 11.2     |\n",
            "|-------------------------------+----------------------+----------------------+\n",
            "| GPU  Name        Persistence-M| Bus-Id        Disp.A | Volatile Uncorr. ECC |\n",
            "| Fan  Temp  Perf  Pwr:Usage/Cap|         Memory-Usage | GPU-Util  Compute M. |\n",
            "|                               |                      |               MIG M. |\n",
            "|===============================+======================+======================|\n",
            "|   0  Tesla T4            Off  | 00000000:00:04.0 Off |                    0 |\n",
            "| N/A   56C    P0    28W /  70W |      0MiB / 15109MiB |      0%      Default |\n",
            "|                               |                      |                  N/A |\n",
            "+-------------------------------+----------------------+----------------------+\n",
            "                                                                               \n",
            "+-----------------------------------------------------------------------------+\n",
            "| Processes:                                                                  |\n",
            "|  GPU   GI   CI        PID   Type   Process name                  GPU Memory |\n",
            "|        ID   ID                                                   Usage      |\n",
            "|=============================================================================|\n",
            "|  No running processes found                                                 |\n",
            "+-----------------------------------------------------------------------------+\n",
            "cuda\n"
          ]
        }
      ],
      "source": [
        "# check GPU Access\n",
        "gpu_info = !nvidia-smi\n",
        "gpu_info = '\\n'.join(gpu_info)\n",
        "if gpu_info.find('failed') >= 0:\n",
        "  print('Not connected to a GPU')\n",
        "else:\n",
        "  print(gpu_info)\n",
        "device = torch.device(\"cuda\" if torch.cuda.is_available() else \"cpu\")\n",
        "print(device)"
      ]
    },
    {
      "cell_type": "markdown",
      "source": [
        "### DATA Filtering and Preparation\n",
        "\n",
        "Filters the data and prepares it for ML"
      ],
      "metadata": {
        "id": "3qW0rZEa4jyL"
      }
    },
    {
      "cell_type": "code",
      "execution_count": 48,
      "metadata": {
        "id": "eh99EBpJ4cgv"
      },
      "outputs": [],
      "source": [
        "\n",
        "input_data_cols = [\"CO(GT)\", \"PT08.S1(CO)\", \"NMHC(GT)\"] # add features to end to make itself predict the output col - lstm not limit to 1 feature\n",
        "#input_data_cols = [\"CO(GT)\"]\n",
        "input_data_features = len(input_data_cols) # length of input features to be predicted\n",
        "output_data_cols = [\"CO(GT)\"] # output collumn(s) of interest\n",
        "output_data_features = len(output_data_cols) # length of output features to be predicted\n",
        "percent = 0.8 # test-train split percentage\n",
        "lookback = 20 # number of units used to make prediction\n",
        "predict = 10 # number of units that will be predicted\n",
        "batch_size = 2048 # number of examples run through in parallel\n",
        "shuffle_train_data = True # whether you want to shuffle data during training or not"
      ]
    },
    {
      "cell_type": "code",
      "execution_count": 49,
      "metadata": {
        "colab": {
          "base_uri": "https://localhost:8080/"
        },
        "id": "1YyCwtvF4e1F",
        "outputId": "afcfecc7-644b-4f45-9c55-1253b59267cc"
      },
      "outputs": [
        {
          "output_type": "stream",
          "name": "stdout",
          "text": [
            "number of rows: 9357\n"
          ]
        }
      ],
      "source": [
        "originaldf = pd.read_excel('/content/boilermakeX/AirQualityUCI.xlsx')\n",
        "originaldf.replace({-200: np.NaN}, inplace=True) # interpolate missing values\n",
        "originaldf.replace({'-200': np.NaN}, inplace=True)\n",
        "for i in range(2, len(list(originaldf.columns))):\n",
        "    originaldf[list(originaldf.columns)[i]] = originaldf[list(originaldf.columns)[i]].interpolate()\n",
        "\n",
        "scaler = MinMaxScaler()\n",
        "df = originaldf.copy()\n",
        "df[input_data_cols] = scaler.fit_transform(originaldf[input_data_cols])\n",
        "print(\"number of rows: \" + str(len(df.index)))"
      ]
    },
    {
      "cell_type": "code",
      "execution_count": 50,
      "metadata": {
        "colab": {
          "base_uri": "https://localhost:8080/",
          "height": 809
        },
        "id": "w7lOFwnE4mtg",
        "outputId": "2940c307-b722-4184-f1e6-d5dc046a4b61"
      },
      "outputs": [
        {
          "output_type": "display_data",
          "data": {
            "text/plain": [
              "<Figure size 432x288 with 1 Axes>"
            ],
            "image/png": "[encoded data removed]"
          },
          "metadata": {
            "needs_background": "light"
          }
        },
        {
          "output_type": "display_data",
          "data": {
            "text/plain": [
              "<Figure size 432x288 with 1 Axes>"
            ],
            "image/png": "[encoded data removed]"
          },
          "metadata": {
            "needs_background": "light"
          }
        },
        {
          "output_type": "display_data",
          "data": {
            "text/plain": [
              "<Figure size 432x288 with 1 Axes>"
            ],
            "image/png": "[encoded data removed]"
          },
          "metadata": {
            "needs_background": "light"
          }
        }
      ],
      "source": [
        "# test for proper scalling and un scalling\n",
        "plt.title(\"original data\")\n",
        "plt.plot(originaldf[\"CO(GT)\"])\n",
        "plt.show()\n",
        "\n",
        "plt.title(\"transform data\")\n",
        "plt.plot(df[\"CO(GT)\"])\n",
        "plt.show()\n",
        "\n",
        "plt.title(\"inverse transform data\")\n",
        "testdf = df.copy()\n",
        "testdf[input_data_cols] = scaler.inverse_transform(df[input_data_cols])\n",
        "plt.plot(testdf[\"CO(GT)\"])\n",
        "plt.show()"
      ]
    },
    {
      "cell_type": "markdown",
      "metadata": {
        "id": "R8zrdpJr5Vov"
      },
      "source": [
        "## Test Train Split"
      ]
    },
    {
      "cell_type": "code",
      "execution_count": 51,
      "metadata": {
        "colab": {
          "base_uri": "https://localhost:8080/"
        },
        "id": "i4Agrh9a5MDG",
        "outputId": "566cb278-17dd-443d-f6cb-3e930b379131"
      },
      "outputs": [
        {
          "output_type": "stream",
          "name": "stdout",
          "text": [
            "(9328, 20, 3)\n",
            "(9328, 10, 1)\n"
          ]
        }
      ],
      "source": [
        "inputcolsdf = df[input_data_cols].copy()\n",
        "outputcolsdf = df[output_data_cols].copy()\n",
        "testingSetInput = []\n",
        "testingSetOutput = []\n",
        "for i in range(len(df.index)-(lookback+predict-1)):\n",
        "  #print(i, \" \", i+lookback, \" \", i+lookback+predict)\n",
        "  testingSetInput.append(inputcolsdf.iloc[list(range(i, i+lookback)),:].to_numpy())\n",
        "  testingSetOutput.append(outputcolsdf.iloc[list(range(i+lookback, i+lookback+predict)),:].to_numpy())\n",
        "\n",
        "print(np.asarray(testingSetInput).shape)\n",
        "print(np.asarray(testingSetOutput).shape)"
      ]
    },
    {
      "cell_type": "markdown",
      "metadata": {
        "id": "tcJPJYAslrhp"
      },
      "source": [
        "## Load Data from DVS"
      ]
    },
    {
      "cell_type": "code",
      "execution_count": 52,
      "metadata": {
        "id": "ITGy6xj_-khN"
      },
      "outputs": [],
      "source": [
        "def split_test_train_data(ts_inp,ts_out,shuffle = False,percent_train = percent):\n",
        "  len_data = len(df.index)\n",
        "  print(\"shuffle data:\",shuffle)\n",
        "  print(ts_out[0])\n",
        "  if shuffle:\n",
        "    all_data_arr = np.array((ts_inp,ts_out),dtype=object).T\n",
        "    #print(all_data_arr.shape)\n",
        "    np.random.shuffle(all_data_arr)\n",
        "    all_data_arr = all_data_arr.T\n",
        "    #print(all_data_arr.shape)\n",
        "    ts_inp,ts_out = all_data_arr[0],all_data_arr[1]\n",
        "  print(ts_out[0])\n",
        "    #for x in rand_arr_indexes[0:int(percent*len_data)]:\n",
        "    #  train_x.append()\n",
        "      \n",
        "\n",
        "  train_x = np.asarray(ts_inp[0:int(percent*len_data)])\n",
        "  print(\"train_x\",train_x.shape)\n",
        "  train_y = np.asarray(ts_out[0:int(percent*len_data)])\n",
        "  print(\"train_y\",train_y.shape)\n",
        "  valid_x = np.asarray(ts_inp[int(percent*len_data):])\n",
        "  print(\"valid_x\",valid_x.shape)\n",
        "  valid_y = np.asarray(ts_out[int(percent*len_data):])\n",
        "  print(\"valid_y\",valid_y.shape)\n",
        "\n",
        "  return train_x,train_y,valid_x,valid_y"
      ]
    },
    {
      "cell_type": "code",
      "execution_count": 53,
      "metadata": {
        "colab": {
          "base_uri": "https://localhost:8080/"
        },
        "id": "YXDQMwoOlrP_",
        "outputId": "f4a46b76-5101-4876-e2de-549499c2f535"
      },
      "outputs": [
        {
          "output_type": "stream",
          "name": "stdout",
          "text": [
            "shuffle data: True\n",
            "[[0.23728814]\n",
            " [0.1779661 ]\n",
            " [0.1779661 ]\n",
            " [0.23728814]\n",
            " [0.39830508]\n",
            " [0.57627119]\n",
            " [0.50847458]\n",
            " [0.3220339 ]\n",
            " [0.11864407]\n",
            " [0.07627119]]\n",
            "[[0.30508475]\n",
            " [0.45762712]\n",
            " [0.44915254]\n",
            " [0.70338983]\n",
            " [0.56779661]\n",
            " [0.37288136]\n",
            " [0.20338983]\n",
            " [0.12711864]\n",
            " [0.13559322]\n",
            " [0.13559322]]\n",
            "train_x (7485,)\n",
            "train_y (7485,)\n",
            "valid_x (1843,)\n",
            "valid_y (1843,)\n"
          ]
        }
      ],
      "source": [
        "# def getValidDataFrom(file_path):\n",
        "#   if not os.path.exists(file_path):\n",
        "#     raise ValueError('No such file path exist!')\n",
        "#   pass\n",
        "\n",
        "\n",
        "# valid_x = getValidDataFrom(\"VALID_X_FILE_PATH\")\n",
        "# valid_y = getValidDataFrom(\"VALID_Y_FILE_PATH\")\n",
        "\n",
        "# train_x = getValidDataFrom(\"train_X_FILE_PATH\")\n",
        "# train_y = getValidDataFrom(\"train_Y_FILE_PATH\")\n",
        "train_x,train_y,valid_x,valid_y = split_test_train_data(testingSetInput.copy(),testingSetOutput.copy(),shuffle = True)\n",
        "\n",
        "\n"
      ]
    },
    {
      "cell_type": "markdown",
      "metadata": {
        "id": "BOolwdE4eCFL"
      },
      "source": [
        "## Dataloader to prep and process the data"
      ]
    },
    {
      "cell_type": "code",
      "execution_count": 54,
      "metadata": {
        "colab": {
          "base_uri": "https://localhost:8080/"
        },
        "id": "LjUWO_UYd_Yz",
        "outputId": "5ecbe18c-111d-48af-e2b9-b0c15a690736"
      },
      "outputs": [
        {
          "output_type": "stream",
          "name": "stdout",
          "text": [
            "validation batches: 1843\n",
            "train batches: 7485\n",
            "batches in valid_dl: 1\n",
            "batches in train_dl: 4\n",
            "====Train DS====\n",
            " train seq: torch.Size([2048, 20, 3])\n",
            " test seq torch.Size([2048, 10, 1])\n",
            " Input seq: tensor([[0.2034, 0.3759, 0.2267],\n",
            "        [0.3136, 0.4804, 0.2267],\n",
            "        [0.2712, 0.4025, 0.2267],\n",
            "        [0.2034, 0.3571, 0.2267],\n",
            "        [0.2203, 0.3890, 0.2267],\n",
            "        [0.2373, 0.3774, 0.2267],\n",
            "        [0.2542, 0.4237, 0.2267],\n",
            "        [0.3305, 0.4348, 0.2267],\n",
            "        [0.2542, 0.3643, 0.2267],\n",
            "        [0.2203, 0.3790, 0.2267],\n",
            "        [0.1356, 0.2542, 0.2267],\n",
            "        [0.1186, 0.2634, 0.2267],\n",
            "        [0.1102, 0.2291, 0.2267],\n",
            "        [0.1102, 0.2436, 0.2267],\n",
            "        [0.0847, 0.1725, 0.2267],\n",
            "        [0.0847, 0.1894, 0.2267],\n",
            "        [0.0636, 0.1294, 0.2267],\n",
            "        [0.0424, 0.1508, 0.2267],\n",
            "        [0.0593, 0.1713, 0.2267],\n",
            "        [0.0763, 0.2273, 0.2267]])\n",
            " Out seq: tensor([[0.1356],\n",
            "        [0.1610],\n",
            "        [0.1780],\n",
            "        [0.2627],\n",
            "        [0.2966],\n",
            "        [0.3136],\n",
            "        [0.3983],\n",
            "        [0.2288],\n",
            "        [0.2119],\n",
            "        [0.1525]])\n",
            " Input seq: tensor([[0.4661, 0.6312, 0.2267],\n",
            "        [0.4915, 0.6086, 0.2267],\n",
            "        [0.2966, 0.4921, 0.2267],\n",
            "        [0.2034, 0.4084, 0.2267],\n",
            "        [0.2373, 0.4196, 0.2267],\n",
            "        [0.2034, 0.3829, 0.2267],\n",
            "        [0.1356, 0.2837, 0.2267],\n",
            "        [0.1271, 0.2724, 0.2267],\n",
            "        [0.0847, 0.1919, 0.2267],\n",
            "        [0.0678, 0.1750, 0.2267],\n",
            "        [0.0763, 0.2081, 0.2267],\n",
            "        [0.1271, 0.3147, 0.2267],\n",
            "        [0.2542, 0.4873, 0.2267],\n",
            "        [0.3390, 0.5901, 0.2267],\n",
            "        [0.3220, 0.4840, 0.2267],\n",
            "        [0.2966, 0.5379, 0.2267],\n",
            "        [0.2627, 0.4474, 0.2267],\n",
            "        [0.1780, 0.3892, 0.2267],\n",
            "        [0.1949, 0.4165, 0.2267],\n",
            "        [0.2203, 0.4445, 0.2267]])\n",
            " Out seq: tensor([[0.0424],\n",
            "        [0.0424],\n",
            "        [0.0593],\n",
            "        [0.0763],\n",
            "        [0.0932],\n",
            "        [0.0763],\n",
            "        [0.1017],\n",
            "        [0.2203],\n",
            "        [0.2203],\n",
            "        [0.1271]])\n",
            "====Validation DS====\n",
            " train seq: torch.Size([1843, 20, 3])\n",
            " test seq torch.Size([1843, 10, 1])\n",
            " Input seq: tensor([[0.2797, 0.3662, 0.2504],\n",
            "        [0.2458, 0.3695, 0.1920],\n",
            "        [0.1695, 0.3729, 0.1024],\n",
            "        [0.1949, 0.3763, 0.1294],\n",
            "        [0.1864, 0.3797, 0.1371],\n",
            "        [0.1017, 0.2867, 0.0592],\n",
            "        [0.1356, 0.3364, 0.0770],\n",
            "        [0.1356, 0.3066, 0.0804],\n",
            "        [0.0763, 0.1973, 0.0491],\n",
            "        [0.0593, 0.1803, 0.0525],\n",
            "        [0.0763, 0.2320, 0.0694],\n",
            "        [0.1102, 0.3054, 0.1074],\n",
            "        [0.1356, 0.3117, 0.1269],\n",
            "        [0.1610, 0.3671, 0.1354],\n",
            "        [0.1610, 0.3338, 0.1269],\n",
            "        [0.1525, 0.3336, 0.1396],\n",
            "        [0.1695, 0.2982, 0.0905],\n",
            "        [0.1441, 0.2763, 0.1345],\n",
            "        [0.1186, 0.2074, 0.0736],\n",
            "        [0.1017, 0.1689, 0.0854]])\n",
            " Out seq: tensor([[0.1102],\n",
            "        [0.1186],\n",
            "        [0.1356],\n",
            "        [0.1610],\n",
            "        [0.2034],\n",
            "        [0.1949],\n",
            "        [0.1610],\n",
            "        [0.2373],\n",
            "        [0.2034],\n",
            "        [0.1102]])\n",
            " Input seq: tensor([[0.0593, 0.1508, 0.2267],\n",
            "        [0.0932, 0.2066, 0.2267],\n",
            "        [0.2203, 0.3677, 0.2267],\n",
            "        [0.2458, 0.3264, 0.2267],\n",
            "        [0.2407, 0.2379, 0.2267],\n",
            "        [0.2356, 0.2517, 0.2267],\n",
            "        [0.2305, 0.2260, 0.2267],\n",
            "        [0.2254, 0.2422, 0.2267],\n",
            "        [0.2203, 0.2844, 0.2267],\n",
            "        [0.2153, 0.2022, 0.2267],\n",
            "        [0.2102, 0.2147, 0.2267],\n",
            "        [0.2051, 0.2210, 0.2267],\n",
            "        [0.2000, 0.2558, 0.2267],\n",
            "        [0.1949, 0.2799, 0.2267],\n",
            "        [0.1898, 0.3009, 0.2267],\n",
            "        [0.1847, 0.1743, 0.2267],\n",
            "        [0.1797, 0.1406, 0.2267],\n",
            "        [0.1746, 0.1343, 0.2267],\n",
            "        [0.1695, 0.1163, 0.2267],\n",
            "        [0.1644, 0.0993, 0.2267]])\n",
            " Out seq: tensor([[0.1593],\n",
            "        [0.1542],\n",
            "        [0.1492],\n",
            "        [0.1441],\n",
            "        [0.1390],\n",
            "        [0.1339],\n",
            "        [0.1288],\n",
            "        [0.1237],\n",
            "        [0.1186],\n",
            "        [0.0932]])\n",
            " Input seq: tensor([[0.1610, 0.4275, 0.1447],\n",
            "        [0.1356, 0.3937, 0.1294],\n",
            "        [0.1271, 0.3519, 0.1438],\n",
            "        [0.0763, 0.2643, 0.0795],\n",
            "        [0.0593, 0.2372, 0.0499],\n",
            "        [0.0339, 0.2054, 0.0279],\n",
            "        [0.0339, 0.2005, 0.0398],\n",
            "        [0.0339, 0.1871, 0.0271],\n",
            "        [0.0593, 0.2386, 0.0465],\n",
            "        [0.1356, 0.4230, 0.0956],\n",
            "        [0.3729, 0.7302, 0.5008],\n",
            "        [0.5169, 0.7971, 0.9112],\n",
            "        [0.3644, 0.6296, 0.6506],\n",
            "        [0.2373, 0.4898, 0.3917],\n",
            "        [0.1271, 0.3729, 0.1371],\n",
            "        [0.2119, 0.5181, 0.2513],\n",
            "        [0.2373, 0.4569, 0.3367],\n",
            "        [0.2034, 0.4122, 0.2453],\n",
            "        [0.1525, 0.3223, 0.1802],\n",
            "        [0.1525, 0.3560, 0.1853]])\n",
            " Out seq: tensor([[0.2203],\n",
            "        [0.2458],\n",
            "        [0.2712],\n",
            "        [0.2627],\n",
            "        [0.1441],\n",
            "        [0.1017],\n",
            "        [0.0847],\n",
            "        [0.0678],\n",
            "        [0.0508],\n",
            "        [0.0254]])\n",
            " Input seq: tensor([[0.4661, 0.6720, 0.2267],\n",
            "        [0.2797, 0.4957, 0.2267],\n",
            "        [0.2627, 0.4576, 0.2267],\n",
            "        [0.3051, 0.5230, 0.2267],\n",
            "        [0.3814, 0.5883, 0.2267],\n",
            "        [0.3475, 0.5709, 0.2267],\n",
            "        [0.2712, 0.5106, 0.2267],\n",
            "        [0.2203, 0.4127, 0.2267],\n",
            "        [0.1780, 0.3496, 0.2267],\n",
            "        [0.2288, 0.3395, 0.2267],\n",
            "        [0.2373, 0.3271, 0.2267],\n",
            "        [0.1610, 0.2422, 0.2267],\n",
            "        [0.0508, 0.1059, 0.2267],\n",
            "        [0.0424, 0.1000, 0.2267],\n",
            "        [0.0932, 0.1373, 0.2267],\n",
            "        [0.0932, 0.1346, 0.2267],\n",
            "        [0.0847, 0.1363, 0.2267],\n",
            "        [0.0424, 0.0817, 0.2267],\n",
            "        [0.0169, 0.0508, 0.2267],\n",
            "        [0.0169, 0.0551, 0.2267]])\n",
            " Out seq: tensor([[0.0169],\n",
            "        [0.0254],\n",
            "        [0.0424],\n",
            "        [0.0508],\n",
            "        [0.0763],\n",
            "        [0.0847],\n",
            "        [0.1186],\n",
            "        [0.1102],\n",
            "        [0.1102],\n",
            "        [0.0763]])\n"
          ]
        }
      ],
      "source": [
        "def disp_ds_info(dl,count):\n",
        "  inp_seq = next(iter(dl))[0]\n",
        "  out_seq = next(iter(dl))[1]\n",
        "  print(\" train seq:\",inp_seq.shape)\n",
        "  print(\" test seq\",out_seq.shape)\n",
        "  for i in range(count):\n",
        "    print(\" Input seq:\",inp_seq[i])\n",
        "    print(\" Out seq:\",out_seq[i])\n",
        "\n",
        "class air_quality_ds(Dataset):\n",
        "    def __init__(self, x, y):\n",
        "        super().__init__()\n",
        "        self.x = x\n",
        "        self.y = y\n",
        "        self.data_len = len(x)\n",
        "\n",
        "    def __len__(self):\n",
        "        return self.data_len\n",
        "\n",
        "    def __getitem__(self, i):\n",
        "        train_ex = torch.from_numpy(self.x[i]).float()\n",
        "        test_ex = torch.from_numpy(self.y[i]).float()\n",
        "        return (train_ex,test_ex)\n",
        "    \n",
        "valid_ds = air_quality_ds(valid_x,valid_y)\n",
        "print(\"validation batches:\",len(valid_ds))\n",
        "\n",
        "train_ds = air_quality_ds(train_x,train_y)\n",
        "print(\"train batches:\",len(train_ds))\n",
        "\n",
        "# create dataloaders\n",
        "valid_dl = DataLoader(valid_ds, batch_size=batch_size, shuffle=False)\n",
        "print(f\"batches in valid_dl: {len(valid_dl)}\")\n",
        "train_dl = DataLoader(train_ds, batch_size=batch_size, shuffle=True)\n",
        "print(f\"batches in train_dl: {len(train_dl)}\")\n",
        "\n",
        "print(\"====Train DS====\")\n",
        "disp_ds_info(train_dl,2)\n",
        "print(\"====Validation DS====\")\n",
        "disp_ds_info(valid_dl,4)\n",
        "\n"
      ]
    },
    {
      "cell_type": "markdown",
      "metadata": {
        "id": "qowUjyIpxcI6"
      },
      "source": [
        "## Model Params"
      ]
    },
    {
      "cell_type": "code",
      "execution_count": 125,
      "metadata": {
        "id": "4gsx2gHgxbla"
      },
      "outputs": [],
      "source": [
        "lstm_inp_size = input_data_features # number of input features in lstm\n",
        "lstm_out_size = output_data_features # number of output features in lstm\n",
        "lstm_hidden_count = 8 # number of lstm cells\n",
        "lstm_dropout = 0.15 # none lol\n",
        "lstm_layer_count = 4 # number of layers in lstm cell\n",
        "lstm_input_seq_len = lookback # length of input sequence to LSTM\n",
        "lstm_verbose = False"
      ]
    },
    {
      "cell_type": "code",
      "execution_count": 126,
      "metadata": {
        "id": "8D01SvuDoY3e"
      },
      "outputs": [],
      "source": [
        "def print_model(model):\n",
        "  sum = 0\n",
        "  print(model)\n",
        "  for param in model.parameters():\n",
        "      if param.requires_grad:\n",
        "          sum += param.numel()\n",
        "  print(\"total trainable parameters:\",sum)"
      ]
    },
    {
      "cell_type": "markdown",
      "metadata": {
        "id": "QkTpXEb_pHCD"
      },
      "source": [
        "## Seq2Seq Model"
      ]
    },
    {
      "cell_type": "code",
      "execution_count": 127,
      "metadata": {
        "id": "9oecrrkHpq_p"
      },
      "outputs": [],
      "source": [
        "seq2seq_verbose = False\n",
        "print_once = False"
      ]
    },
    {
      "cell_type": "code",
      "execution_count": 128,
      "metadata": {
        "id": "-9gsGCw0pGXX"
      },
      "outputs": [],
      "source": [
        "class encoder_lstm(nn.Module):\n",
        "  def __init__(self, inp_size, hid_size, dropout, layer_count):\n",
        "        super(encoder_lstm, self).__init__()\n",
        "        self._input_size = inp_size  # number of input features\n",
        "        self._hidden_size = hid_size  # number of features in hidden state\n",
        "        self._layer_count = layer_count  # number of stacked LSTM's\n",
        "        self._dropout = dropout\n",
        "\n",
        "        self._lstm = nn.LSTM(input_size=self._input_size,\n",
        "                            hidden_size=self._hidden_size,\n",
        "                            num_layers=self._layer_count, \n",
        "                            dropout=self._dropout)\n",
        "        \n",
        "        self._drop = nn.Dropout(dropout)\n",
        "  def forward(self,x):\n",
        "    # input shape: (seq_len, count units in batch, input size)\n",
        "    if seq2seq_verbose:\n",
        "      print(\"enc: inp shape\",x.shape)\n",
        "    out,(self.hn,self.cn) = self._lstm(x)\n",
        "    if seq2seq_verbose:\n",
        "      #print(\"enc: out shape\",out.shape)\n",
        "      print(\"enc: hn shape\",self.hn.shape)\n",
        "\n",
        "    return out.to(device), (self.hn,self.cn)\n",
        "\n",
        "  def init_hidden(self,batch_size):\n",
        "    (h_0,c_0) = (torch.randn(self._layer_count,batch_size,self._hidden_size).requires_grad_().to(device),    \n",
        "      torch.randn(self._layer_count,batch_size,self._hidden_size).requires_grad_().to(device))\n",
        "    return (h_0,c_0)\n",
        "class decoder_lstm(nn.Module):\n",
        "  def __init__(self,inp_size,out_size, hid_size, layer_count,drop):\n",
        "    super(decoder_lstm,self).__init__()\n",
        "    self._inp_feature_size = inp_size # number of input features\n",
        "    self._out_feature_size = out_size # number of input features\n",
        "    self._hid_size = hid_size # size of hidden size\n",
        "    self._layer_count = layer_count # number of hidden lstm cells\n",
        "    self._dropout = drop\n",
        "\n",
        "    self._lstm = nn.LSTM(input_size=self._inp_feature_size, \n",
        "                        hidden_size = self._hid_size, \n",
        "                        num_layers = self._layer_count,\n",
        "                        dropout=self._dropout)\n",
        "    \n",
        "    self._l_in = nn.Linear(self._hid_size,self._inp_feature_size)\n",
        "    self._l_out = nn.Linear(self._hid_size,self._out_feature_size)\n",
        "\n",
        "  def forward(self,x,enc_hidden_states):\n",
        "    # x: 2d - the last input time step\n",
        "    # enc_hidden_states: the last hidden decoder time step\n",
        "    if seq2seq_verbose:\n",
        "      print(\"dec: inp shape\",x.shape)\n",
        "    #lstm_out, (hn, cn) = self._lstm(x,enc_hidden_states)\n",
        "    lstm_out, (self.hn,self.cn) = self._lstm(x.unsqueeze(0),enc_hidden_states)\n",
        "    if seq2seq_verbose:\n",
        "      print(\"dec: lstm out shape\",lstm_out.shape)\n",
        "      print(\"dec: hn shape\",self.hn[0].shape)\n",
        "    \n",
        "    output = self._l_in(lstm_out.squeeze(0))\n",
        "    final_output = self._l_out(lstm_out.squeeze(0))\n",
        "\n",
        "    if seq2seq_verbose:\n",
        "      print(\"dec: output shape\", output.shape)\n",
        "      print(\"dec: final output shape\", final_output.shape)\n",
        "      print(\"dec: final hn shape\", self.hn.shape)\n",
        "    return final_output, output, (self.hn,self.cn)\n",
        "\n",
        "class seq2seq(nn.Module):\n",
        "  def __init__(self,inp_size=input_data_features,out_size = output_data_features,hid_size=lstm_hidden_count,layer_count=lstm_layer_count,dropout=lstm_dropout):\n",
        "    super(seq2seq,self).__init__()\n",
        "    self._inp_size = inp_size\n",
        "    self._hid_size = hid_size\n",
        "    self._layer_count = layer_count\n",
        "    self._dropout = dropout\n",
        "    self._out_size = out_size\n",
        "    \n",
        "    self._enc = encoder_lstm(inp_size=self._inp_size, hid_size=self._hid_size,dropout=self._dropout,layer_count=self._layer_count)\n",
        "    self._dec = decoder_lstm(inp_size=self._inp_size, out_size = self._out_size, hid_size=self._hid_size,drop=self._dropout,layer_count=self._layer_count)\n",
        "\n",
        "    print_model(self)\n",
        "    self.model_name = \"seq2seq\"\n",
        "\n",
        "\n",
        "  def forward(self,inp):\n",
        "    outputs = torch.zeros(predict,inp.size(1),self._out_size)\n",
        "    enc_hidden = self._enc.init_hidden(inp.size(1))\n",
        "\n",
        "    if seq2seq_verbose:\n",
        "      print(\"============\")\n",
        "      print(\"seq2seq: input\",inp.shape)\n",
        "      print(\"seq2seq: outputs\",outputs.shape)\n",
        "      print(\"seq2seq: hn\",enc_hidden[0].shape)\n",
        "\n",
        "    enc_out,enc_hidden = self._enc(inp)\n",
        "\n",
        "    if seq2seq_verbose:\n",
        "      print(\"seq2seq: enc_out\",enc_out.shape)\n",
        "      print(\"seq2seq: enc_hidden\",enc_hidden[0].shape)\n",
        "\n",
        "    dec_inp = inp[-1,:,:] # get the last element\n",
        "    dec_hidden = enc_hidden # enc hidden is the last hidden state of the elements\n",
        "\n",
        "    if seq2seq_verbose:\n",
        "      print(\"seq2seq: dec_inp\",dec_inp.shape)\n",
        "      print(\"seq2seq: dec_hidden\", dec_hidden[0].shape)\n",
        "\n",
        "    for p in range(predict):\n",
        "      final_dec_out,dec_out,dec_hidden = self._dec(dec_inp,dec_hidden)\n",
        "      if seq2seq_verbose:\n",
        "        print(\" seq2seq: final_dec_out\",final_dec_out.shape)\n",
        "        print(\" seq2seq: dec_out\", dec_out.shape)\n",
        "        print(\" seq2seq: dec_hidden hn\",dec_hidden[0].shape)\n",
        "      outputs[p] = final_dec_out\n",
        "      dec_inp = dec_out\n",
        "    if seq2seq_verbose:\n",
        "      print(\"seq2seq: outputs\",outputs.shape)\n",
        "    if print_once:\n",
        "      print(outputs)\n",
        "    #print(outputs)\n",
        "    return outputs.to(device)\n",
        "\n",
        "\n",
        "  def predict_seq(self,x):\n",
        "    x = x.unsqueeze(1) # add in dim of 1\n",
        "    (hn,cn) = self._enc.init_hidden(1)\n",
        "    enc_out, (hn,cn) = self._enc(x)\n",
        "  \n",
        "    outputs = torch.zeros(predict,output_data_features)\n",
        "    dec_inp = x[-1,:,:] # get the last element\n",
        "    dec_hidden = (hn,cn) # enc hidden is the last hidden state of the elements\n",
        "\n",
        "    for p in range(predict):\n",
        "      final_dec_out,dec_out,dec_hidden = self._dec(dec_inp,dec_hidden)\n",
        "      if seq2seq_verbose:\n",
        "        print(\" seq2seq: final_dec_out\",final_dec_out.shape)\n",
        "        print(\" seq2seq: dec_out\", dec_out.shape)\n",
        "        print(\" seq2seq: dec_hidden hn\",dec_hidden[0].shape)\n",
        "      outputs[p] = final_dec_out\n",
        "      dec_inp = dec_out\n",
        "    if seq2seq_verbose:\n",
        "      print(\"seq2seq: outputs\",outputs.shape)\n",
        "    return outputs\n"
      ]
    },
    {
      "cell_type": "markdown",
      "metadata": {
        "id": "D2Nvrxd9w7TZ"
      },
      "source": [
        "## LSTM Model"
      ]
    },
    {
      "cell_type": "code",
      "execution_count": 129,
      "metadata": {
        "id": "VWK8bhIHxCNV"
      },
      "outputs": [],
      "source": [
        "class lstm(nn.Module):\n",
        "  def __init__(self,inp_size=lstm_inp_size,out_size=lstm_out_size,hidden_size=lstm_hidden_count,layer_count=lstm_layer_count,seq_len=lstm_input_seq_len,dropout=0):\n",
        "    super(lstm,self).__init__()\n",
        "    self.model_name = \"lstm\"\n",
        "    self.inp_size = inp_size\n",
        "    self.out_size = out_size\n",
        "    self.hid_size = hidden_size\n",
        "    self.layer_count = layer_count\n",
        "    self.seq_len = seq_len\n",
        "    self.drop = dropout\n",
        "    \n",
        "    self.lstm = nn.LSTM(input_size=self.inp_size, hidden_size=self.hid_size, num_layers=self.layer_count, batch_first=True, dropout=self.drop)\n",
        "\n",
        "    self.fc = nn.Linear(hidden_size,out_size)\n",
        "\n",
        "    print_model(self)\n",
        "\n",
        "  def forward(self,inp):\n",
        "    if lstm_verbose:\n",
        "      print(\"inp shape:\",inp.shape) \n",
        "      print(\"hn shape:\",hn.shape)\n",
        "      print(\"cn shape:\",cn.shape)\n",
        "    (hn,cn) = self.init_hidden(inp.size(0))\n",
        "    # try with (hn,cn)\n",
        "    lstm_out,hidden = self.lstm(inp,(hn,cn))\n",
        "    out = self.fc(hn[0]).flatten()\n",
        "    if lstm_verbose:\n",
        "      print(\"hn[0] shape:\", hn[0].shape)\n",
        "      print(\"out lstm shape:\", out.shape)\n",
        "    return out\n",
        "\n",
        "  def init_hidden(self,b_size):\n",
        "    h_0 = torch.randn(self.layer_count, b_size, self.hid_size).to(device)\n",
        "    c_0 = torch.randn(self.layer_count, b_size, self.hid_size).to(device)\n",
        "    return(h_0,c_0)\n"
      ]
    },
    {
      "cell_type": "markdown",
      "metadata": {
        "id": "fBEVpXX9kMPE"
      },
      "source": [
        "## Training and Testing Loop"
      ]
    },
    {
      "cell_type": "code",
      "execution_count": 141,
      "metadata": {
        "colab": {
          "base_uri": "https://localhost:8080/"
        },
        "id": "NKaFgHs8kL7i",
        "outputId": "e306950b-2c96-4361-c0e1-6058f31203f5"
      },
      "outputs": [
        {
          "output_type": "stream",
          "name": "stdout",
          "text": [
            "seq2seq(\n",
            "  (_enc): encoder_lstm(\n",
            "    (_lstm): LSTM(3, 8, num_layers=4, dropout=0.15)\n",
            "    (_drop): Dropout(p=0.15, inplace=False)\n",
            "  )\n",
            "  (_dec): decoder_lstm(\n",
            "    (_lstm): LSTM(3, 8, num_layers=4, dropout=0.15)\n",
            "    (_l_in): Linear(in_features=8, out_features=3, bias=True)\n",
            "    (_l_out): Linear(in_features=8, out_features=1, bias=True)\n",
            "  )\n",
            ")\n",
            "total trainable parameters: 4324\n",
            "seq2seq\n"
          ]
        }
      ],
      "source": [
        "from torch.optim.lr_scheduler import ExponentialLR\n",
        "train_loss = [] # track training loss\n",
        "valid_loss = [] # track validation loss\n",
        "learning_rate = 0.0001 # the learning rate\n",
        "n_epochs = 1000 # number of epochs\n",
        "GAMMA = 0.9\n",
        "#model = lstm().to(device) # TODO create the model\n",
        "model = seq2seq().to(device)\n",
        "model_name = model.model_name\n",
        "\n",
        "print(model_name)\n",
        "loss_func = nn.MSELoss()\n",
        "optim = optimizer.Adam(model.parameters(), lr=learning_rate)\n",
        "scheduler = ExponentialLR(optim, gamma=GAMMA)"
      ]
    },
    {
      "cell_type": "code",
      "execution_count": 142,
      "metadata": {
        "colab": {
          "base_uri": "https://localhost:8080/",
          "height": 1000
        },
        "id": "jR74AkIio8ar",
        "outputId": "5817dca6-d97a-4340-c053-9741db6cac37"
      },
      "outputs": [
        {
          "output_type": "stream",
          "name": "stdout",
          "text": [
            "epoch 0: avg train loss: 0.01621731510385871 avg val loss: 0.015294506214559078\n",
            "epoch 1: avg train loss: 0.016105364076793194 avg val loss: 0.015193699859082699\n",
            "epoch 2: avg train loss: 0.016025684541091323 avg val loss: 0.015101183205842972\n",
            "epoch 3: avg train loss: 0.01589633896946907 avg val loss: 0.01498386263847351\n",
            "epoch 4: avg train loss: 0.015824001049622893 avg val loss: 0.014914999715983868\n",
            "epoch 5: avg train loss: 0.015711308224126697 avg val loss: 0.014869259670376778\n",
            "epoch 6: avg train loss: 0.015696388902142644 avg val loss: 0.014816176146268845\n",
            "epoch 7: avg train loss: 0.01566472928971052 avg val loss: 0.01475465763360262\n",
            "epoch 8: avg train loss: 0.01562722073867917 avg val loss: 0.014736125245690346\n",
            "epoch 9: avg train loss: 0.015597611432895064 avg val loss: 0.014713269658386707\n",
            "epoch 10: avg train loss: 0.015612804796546698 avg val loss: 0.014682899229228497\n",
            "epoch 11: avg train loss: 0.01555949030444026 avg val loss: 0.014664585702121258\n",
            "epoch 12: avg train loss: 0.015539528802037239 avg val loss: 0.014642959460616112\n",
            "epoch 13: avg train loss: 0.015496411826461554 avg val loss: 0.014633127488195896\n",
            "epoch 14: avg train loss: 0.015490469057112932 avg val loss: 0.014608736149966717\n",
            "epoch 15: avg train loss: 0.015547672053799033 avg val loss: 0.014608933590352535\n",
            "epoch 16: avg train loss: 0.015481593552976847 avg val loss: 0.014596420340240002\n",
            "epoch 17: avg train loss: 0.015411593718454242 avg val loss: 0.014582119882106781\n",
            "epoch 18: avg train loss: 0.01549787842668593 avg val loss: 0.014555675908923149\n",
            "epoch 19: avg train loss: 0.015453801257535815 avg val loss: 0.014562239870429039\n",
            "epoch 20: avg train loss: 0.015407738741487265 avg val loss: 0.014553268440067768\n",
            "epoch 21: avg train loss: 0.015420731389895082 avg val loss: 0.014534464105963707\n",
            "epoch 22: avg train loss: 0.015449885511770844 avg val loss: 0.01452469639480114\n",
            "epoch 23: avg train loss: 0.015418571885675192 avg val loss: 0.014543524943292141\n",
            "epoch 24: avg train loss: 0.015385294100269675 avg val loss: 0.014539875090122223\n",
            "epoch 25: avg train loss: 0.015468269819393754 avg val loss: 0.014530426822602749\n",
            "epoch 26: avg train loss: 0.015449979109689593 avg val loss: 0.014531970024108887\n",
            "epoch 27: avg train loss: 0.015478728106245399 avg val loss: 0.014519915916025639\n",
            "epoch 28: avg train loss: 0.015469992300495505 avg val loss: 0.014528623782098293\n",
            "epoch 29: avg train loss: 0.015451786341145635 avg val loss: 0.014510303735733032\n",
            "epoch 30: avg train loss: 0.015417377930134535 avg val loss: 0.014499304816126823\n",
            "epoch 31: avg train loss: 0.015378182753920555 avg val loss: 0.014507828280329704\n",
            "epoch 32: avg train loss: 0.015365451341494918 avg val loss: 0.014530433341860771\n",
            "epoch 33: avg train loss: 0.01541229011490941 avg val loss: 0.014513607136905193\n",
            "epoch 34: avg train loss: 0.015388157218694687 avg val loss: 0.014510431326925755\n",
            "epoch 35: avg train loss: 0.01538099255412817 avg val loss: 0.014503411948680878\n",
            "epoch 36: avg train loss: 0.01545715588144958 avg val loss: 0.014497105963528156\n",
            "epoch 37: avg train loss: 0.015438683796674013 avg val loss: 0.014509999193251133\n",
            "epoch 38: avg train loss: 0.01542414864525199 avg val loss: 0.01450845692306757\n",
            "epoch 39: avg train loss: 0.015417298534885049 avg val loss: 0.014509889297187328\n",
            "epoch 40: avg train loss: 0.015395939350128174 avg val loss: 0.014507850632071495\n",
            "epoch 41: avg train loss: 0.015447983518242836 avg val loss: 0.014481766149401665\n",
            "epoch 42: avg train loss: 0.015421927906572819 avg val loss: 0.014525989070534706\n",
            "epoch 43: avg train loss: 0.0153438167180866 avg val loss: 0.014484402723610401\n",
            "epoch 44: avg train loss: 0.015393429202958941 avg val loss: 0.014489911496639252\n",
            "epoch 45: avg train loss: 0.015317425364628434 avg val loss: 0.014499927870929241\n",
            "epoch 46: avg train loss: 0.015397567534819245 avg val loss: 0.014485955238342285\n",
            "epoch 47: avg train loss: 0.015392341185361147 avg val loss: 0.014504817314445972\n",
            "epoch 48: avg train loss: 0.015461752424016595 avg val loss: 0.01449685636907816\n",
            "epoch 49: avg train loss: 0.015363090904429555 avg val loss: 0.014492484740912914\n",
            "epoch 50: avg train loss: 0.015431456500664353 avg val loss: 0.014495164155960083\n",
            "epoch 51: avg train loss: 0.015392848290503025 avg val loss: 0.014505883678793907\n",
            "epoch 52: avg train loss: 0.015446485951542854 avg val loss: 0.01448578666895628\n",
            "epoch 53: avg train loss: 0.01542119076475501 avg val loss: 0.01451277919113636\n",
            "epoch 54: avg train loss: 0.015387276886031032 avg val loss: 0.014502535574138165\n",
            "epoch 55: avg train loss: 0.015386397717520595 avg val loss: 0.01451668981462717\n",
            "epoch 56: avg train loss: 0.015388879226520658 avg val loss: 0.014497478492558002\n",
            "epoch 57: avg train loss: 0.015462081180885434 avg val loss: 0.014506910927593708\n",
            "epoch 58: avg train loss: 0.015321061480790377 avg val loss: 0.01451096124947071\n",
            "epoch 59: avg train loss: 0.015452418243512511 avg val loss: 0.01449928991496563\n",
            "epoch 60: avg train loss: 0.015335480915382504 avg val loss: 0.014500387944281101\n",
            "epoch 61: avg train loss: 0.01541059510782361 avg val loss: 0.014489288441836834\n",
            "epoch 62: avg train loss: 0.015435502398759127 avg val loss: 0.014504751190543175\n",
            "epoch 63: avg train loss: 0.01535532483831048 avg val loss: 0.014485811814665794\n",
            "epoch 64: avg train loss: 0.015427877428010106 avg val loss: 0.014501863159239292\n",
            "epoch 65: avg train loss: 0.015300976112484932 avg val loss: 0.014492128975689411\n",
            "epoch 66: avg train loss: 0.015431262319907546 avg val loss: 0.01450077723711729\n",
            "epoch 67: avg train loss: 0.015382606070488691 avg val loss: 0.014510917477309704\n",
            "epoch 68: avg train loss: 0.015423056436702609 avg val loss: 0.014503801241517067\n",
            "epoch 69: avg train loss: 0.015440165530890226 avg val loss: 0.014511404559016228\n",
            "epoch 70: avg train loss: 0.01547947758808732 avg val loss: 0.01449424959719181\n",
            "epoch 71: avg train loss: 0.01539497496560216 avg val loss: 0.014486879110336304\n",
            "epoch 72: avg train loss: 0.015414128778502345 avg val loss: 0.01447751559317112\n",
            "epoch 73: avg train loss: 0.015372597146779299 avg val loss: 0.014491256326436996\n",
            "epoch 74: avg train loss: 0.015470741549506783 avg val loss: 0.014500764198601246\n",
            "epoch 75: avg train loss: 0.015418307855725288 avg val loss: 0.014497678726911545\n",
            "epoch 76: avg train loss: 0.0153333880007267 avg val loss: 0.0144779859110713\n",
            "epoch 77: avg train loss: 0.015390475047752261 avg val loss: 0.014497312717139721\n"
          ]
        },
        {
          "output_type": "error",
          "ename": "KeyboardInterrupt",
          "evalue": "ignored",
          "traceback": [
            "\u001b[0;31m---------------------------------------------------------------------------\u001b[0m",
            "\u001b[0;31mKeyboardInterrupt\u001b[0m                         Traceback (most recent call last)",
            "\u001b[0;32m<ipython-input-142-1842acf7f65c>\u001b[0m in \u001b[0;36m<module>\u001b[0;34m\u001b[0m\n\u001b[1;32m     54\u001b[0m \u001b[0;32mfor\u001b[0m \u001b[0me\u001b[0m \u001b[0;32min\u001b[0m \u001b[0mrange\u001b[0m\u001b[0;34m(\u001b[0m\u001b[0mn_epochs\u001b[0m\u001b[0;34m)\u001b[0m\u001b[0;34m:\u001b[0m\u001b[0;34m\u001b[0m\u001b[0;34m\u001b[0m\u001b[0m\n\u001b[1;32m     55\u001b[0m   \u001b[0mavg_train_loss\u001b[0m \u001b[0;34m=\u001b[0m \u001b[0mtrain_epoch\u001b[0m\u001b[0;34m(\u001b[0m\u001b[0mtrain_dl\u001b[0m\u001b[0;34m,\u001b[0m\u001b[0me\u001b[0m\u001b[0;34m)\u001b[0m\u001b[0;34m\u001b[0m\u001b[0;34m\u001b[0m\u001b[0m\n\u001b[0;32m---> 56\u001b[0;31m   \u001b[0mavg_valid_epoch\u001b[0m \u001b[0;34m=\u001b[0m \u001b[0mtrain_epoch\u001b[0m\u001b[0;34m(\u001b[0m\u001b[0mvalid_dl\u001b[0m\u001b[0;34m,\u001b[0m\u001b[0me\u001b[0m\u001b[0;34m)\u001b[0m\u001b[0;34m\u001b[0m\u001b[0;34m\u001b[0m\u001b[0m\n\u001b[0m\u001b[1;32m     57\u001b[0m   \u001b[0mnum_epochs_run\u001b[0m \u001b[0;34m+=\u001b[0m \u001b[0;36m1\u001b[0m\u001b[0;34m\u001b[0m\u001b[0;34m\u001b[0m\u001b[0m\n\u001b[1;32m     58\u001b[0m   \u001b[0mtrain_loss\u001b[0m\u001b[0;34m.\u001b[0m\u001b[0mappend\u001b[0m\u001b[0;34m(\u001b[0m\u001b[0mavg_train_loss\u001b[0m\u001b[0;34m)\u001b[0m\u001b[0;34m\u001b[0m\u001b[0;34m\u001b[0m\u001b[0m\n",
            "\u001b[0;32m<ipython-input-142-1842acf7f65c>\u001b[0m in \u001b[0;36mtrain_epoch\u001b[0;34m(dl, epoch)\u001b[0m\n\u001b[1;32m     28\u001b[0m \u001b[0;34m\u001b[0m\u001b[0m\n\u001b[1;32m     29\u001b[0m     \u001b[0;31m# compute the loss\u001b[0m\u001b[0;34m\u001b[0m\u001b[0;34m\u001b[0m\u001b[0;34m\u001b[0m\u001b[0m\n\u001b[0;32m---> 30\u001b[0;31m     \u001b[0mloss\u001b[0m\u001b[0;34m.\u001b[0m\u001b[0mbackward\u001b[0m\u001b[0;34m(\u001b[0m\u001b[0;34m)\u001b[0m\u001b[0;34m\u001b[0m\u001b[0;34m\u001b[0m\u001b[0m\n\u001b[0m\u001b[1;32m     31\u001b[0m     \u001b[0;31m# step the optimizer\u001b[0m\u001b[0;34m\u001b[0m\u001b[0;34m\u001b[0m\u001b[0;34m\u001b[0m\u001b[0m\n\u001b[1;32m     32\u001b[0m     \u001b[0moptim\u001b[0m\u001b[0;34m.\u001b[0m\u001b[0mstep\u001b[0m\u001b[0;34m(\u001b[0m\u001b[0;34m)\u001b[0m\u001b[0;34m\u001b[0m\u001b[0;34m\u001b[0m\u001b[0m\n",
            "\u001b[0;32m/usr/local/lib/python3.8/dist-packages/torch/_tensor.py\u001b[0m in \u001b[0;36mbackward\u001b[0;34m(self, gradient, retain_graph, create_graph, inputs)\u001b[0m\n\u001b[1;32m    486\u001b[0m                 \u001b[0minputs\u001b[0m\u001b[0;34m=\u001b[0m\u001b[0minputs\u001b[0m\u001b[0;34m,\u001b[0m\u001b[0;34m\u001b[0m\u001b[0;34m\u001b[0m\u001b[0m\n\u001b[1;32m    487\u001b[0m             )\n\u001b[0;32m--> 488\u001b[0;31m         torch.autograd.backward(\n\u001b[0m\u001b[1;32m    489\u001b[0m             \u001b[0mself\u001b[0m\u001b[0;34m,\u001b[0m \u001b[0mgradient\u001b[0m\u001b[0;34m,\u001b[0m \u001b[0mretain_graph\u001b[0m\u001b[0;34m,\u001b[0m \u001b[0mcreate_graph\u001b[0m\u001b[0;34m,\u001b[0m \u001b[0minputs\u001b[0m\u001b[0;34m=\u001b[0m\u001b[0minputs\u001b[0m\u001b[0;34m\u001b[0m\u001b[0;34m\u001b[0m\u001b[0m\n\u001b[1;32m    490\u001b[0m         )\n",
            "\u001b[0;32m/usr/local/lib/python3.8/dist-packages/torch/autograd/__init__.py\u001b[0m in \u001b[0;36mbackward\u001b[0;34m(tensors, grad_tensors, retain_graph, create_graph, grad_variables, inputs)\u001b[0m\n\u001b[1;32m    195\u001b[0m     \u001b[0;31m# some Python versions print out the first line of a multi-line function\u001b[0m\u001b[0;34m\u001b[0m\u001b[0;34m\u001b[0m\u001b[0;34m\u001b[0m\u001b[0m\n\u001b[1;32m    196\u001b[0m     \u001b[0;31m# calls in the traceback and some print out the last line\u001b[0m\u001b[0;34m\u001b[0m\u001b[0;34m\u001b[0m\u001b[0;34m\u001b[0m\u001b[0m\n\u001b[0;32m--> 197\u001b[0;31m     Variable._execution_engine.run_backward(  # Calls into the C++ engine to run the backward pass\n\u001b[0m\u001b[1;32m    198\u001b[0m         \u001b[0mtensors\u001b[0m\u001b[0;34m,\u001b[0m \u001b[0mgrad_tensors_\u001b[0m\u001b[0;34m,\u001b[0m \u001b[0mretain_graph\u001b[0m\u001b[0;34m,\u001b[0m \u001b[0mcreate_graph\u001b[0m\u001b[0;34m,\u001b[0m \u001b[0minputs\u001b[0m\u001b[0;34m,\u001b[0m\u001b[0;34m\u001b[0m\u001b[0;34m\u001b[0m\u001b[0m\n\u001b[1;32m    199\u001b[0m         allow_unreachable=True, accumulate_grad=True)  # Calls into the C++ engine to run the backward pass\n",
            "\u001b[0;31mKeyboardInterrupt\u001b[0m: "
          ]
        }
      ],
      "source": [
        "num_epochs_run = 0\n",
        "def train_epoch(dl,epoch):\n",
        "  print_once = True\n",
        "  model.train(True)\n",
        "\n",
        "  epoch_train_loss = 0.\n",
        "  # loop over training batches\n",
        "  times_run = 0\n",
        "\n",
        "  for i, (x,y) in enumerate(dl):\n",
        "    optim.zero_grad() # zero gradients\n",
        "    x= x.to(device)\n",
        "    y= y.to(device)\n",
        "\n",
        "    if model_name == \"seq2seq\":\n",
        "      x = x.swapaxes(0, 1)\n",
        "      y = y.swapaxes(0, 1)\n",
        "    model_out = model.forward(x)\n",
        "\n",
        "    # squeeze the tensors to account for 1 dim sizes\n",
        "    model_out = model_out.squeeze()\n",
        "    y = y.squeeze()\n",
        "    \n",
        "    loss = loss_func(model_out,y)\n",
        "    epoch_train_loss += loss.item()*x.size(0)\n",
        "\n",
        "    times_run += x.size(0)\n",
        "\n",
        "    # compute the loss\n",
        "    loss.backward()\n",
        "    # step the optimizer\n",
        "    optim.step()\n",
        "  \n",
        "  return epoch_train_loss/times_run\n",
        "\n",
        "def test_epoch(dl,epoch):\n",
        "  model.train(False)\n",
        "  epoch_test_loss = 0.\n",
        "  times_run = 0\n",
        "  # loop over testing batches\n",
        "  for i, (x,y) in enumerate(dl):\n",
        "    model_out = model(x)\n",
        "    # squeeze tensors to account for 1 dim sizes\n",
        "    model_out = model_out.squeeze()\n",
        "    y = y.squeeze()\n",
        "\n",
        "    loss = loss_func(model_out,y)\n",
        "    epoch_test_loss += loss.item()*x.size(0)\n",
        "    times_run += x.size(0)\n",
        "\n",
        "  return epoch_test_loss/times_run\n",
        "\n",
        "\n",
        "for e in range(n_epochs):\n",
        "  avg_train_loss = train_epoch(train_dl,e)\n",
        "  avg_valid_epoch = train_epoch(valid_dl,e)\n",
        "  num_epochs_run += 1\n",
        "  train_loss.append(avg_train_loss)\n",
        "  valid_loss.append(avg_valid_epoch)\n",
        "  scheduler.step()\n",
        "  print(f\"epoch {e}: avg train loss: {avg_train_loss} avg val loss: {avg_valid_epoch}\")"
      ]
    },
    {
      "cell_type": "code",
      "execution_count": 143,
      "metadata": {
        "colab": {
          "base_uri": "https://localhost:8080/"
        },
        "id": "aDz8gds2-SMn",
        "outputId": "4ebcfc02-1c0f-4cd1-bc68-e223b5c43420"
      },
      "outputs": [
        {
          "output_type": "stream",
          "name": "stdout",
          "text": [
            "shuffle data: False\n",
            "[[0.23728814]\n",
            " [0.1779661 ]\n",
            " [0.1779661 ]\n",
            " [0.23728814]\n",
            " [0.39830508]\n",
            " [0.57627119]\n",
            " [0.50847458]\n",
            " [0.3220339 ]\n",
            " [0.11864407]\n",
            " [0.07627119]]\n",
            "[[0.23728814]\n",
            " [0.1779661 ]\n",
            " [0.1779661 ]\n",
            " [0.23728814]\n",
            " [0.39830508]\n",
            " [0.57627119]\n",
            " [0.50847458]\n",
            " [0.3220339 ]\n",
            " [0.11864407]\n",
            " [0.07627119]]\n",
            "train_x (7485, 20, 3)\n",
            "train_y (7485, 10, 1)\n",
            "valid_x (1843, 20, 3)\n",
            "valid_y (1843, 10, 1)\n"
          ]
        }
      ],
      "source": [
        "train_x,train_y,valid_x,valid_y = split_test_train_data(testingSetInput.copy(),testingSetOutput.copy(),shuffle = False)"
      ]
    },
    {
      "cell_type": "code",
      "execution_count": 144,
      "metadata": {
        "colab": {
          "base_uri": "https://localhost:8080/",
          "height": 295
        },
        "id": "mp8jy7ZBpMH8",
        "outputId": "6735e804-308f-4410-c527-0388e6143e3f"
      },
      "outputs": [
        {
          "output_type": "display_data",
          "data": {
            "text/plain": [
              "<Figure size 432x288 with 1 Axes>"
            ],
            "image/png": "[encoded data removed]"
          },
          "metadata": {
            "needs_background": "light"
          }
        }
      ],
      "source": [
        "plt.plot(range(0, len(train_loss)), train_loss, label=\"train loss\")\n",
        "plt.plot(range(0, len(train_loss)), valid_loss, label=\"validation loss\")\n",
        "plt.legend()\n",
        "plt.title(\"Train and Valid Loss for epochs\")\n",
        "plt.ylabel(\"loss\")\n",
        "plt.xlabel(\"epochs\")\n",
        "plt.show()"
      ]
    },
    {
      "cell_type": "code",
      "execution_count": 1,
      "metadata": {
        "colab": {
          "base_uri": "https://localhost:8080/",
          "height": 242
        },
        "id": "ooisHvxS96ky",
        "outputId": "a0388f7d-d8d5-40ec-bd37-6ce9f44768fe"
      },
      "outputs": [
        {
          "output_type": "error",
          "ename": "NameError",
          "evalue": "ignored",
          "traceback": [
            "\u001b[0;31m---------------------------------------------------------------------------\u001b[0m",
            "\u001b[0;31mNameError\u001b[0m                                 Traceback (most recent call last)",
            "\u001b[0;32m<ipython-input-1-7b0b8e4ee873>\u001b[0m in \u001b[0;36m<module>\u001b[0;34m\u001b[0m\n\u001b[1;32m      1\u001b[0m \u001b[0;32mimport\u001b[0m \u001b[0mwarnings\u001b[0m\u001b[0;34m\u001b[0m\u001b[0;34m\u001b[0m\u001b[0m\n\u001b[0;32m----> 2\u001b[0;31m \u001b[0mwarnings\u001b[0m\u001b[0;34m.\u001b[0m\u001b[0mfilterwarnings\u001b[0m\u001b[0;34m(\u001b[0m\u001b[0;34m\"ignore\"\u001b[0m\u001b[0;34m,\u001b[0m \u001b[0mcategory\u001b[0m\u001b[0;34m=\u001b[0m\u001b[0mnp\u001b[0m\u001b[0;34m.\u001b[0m\u001b[0mVisibleDeprecationWarning\u001b[0m\u001b[0;34m)\u001b[0m\u001b[0;34m\u001b[0m\u001b[0;34m\u001b[0m\u001b[0m\n\u001b[0m\u001b[1;32m      3\u001b[0m \u001b[0mwarnings\u001b[0m\u001b[0;34m.\u001b[0m\u001b[0mfilterwarnings\u001b[0m\u001b[0;34m(\u001b[0m\u001b[0;34m\"ignore\"\u001b[0m\u001b[0;34m,\u001b[0m \u001b[0mcategory\u001b[0m\u001b[0;34m=\u001b[0m\u001b[0mFutureWarning\u001b[0m\u001b[0;34m)\u001b[0m\u001b[0;34m\u001b[0m\u001b[0;34m\u001b[0m\u001b[0m\n\u001b[1;32m      4\u001b[0m \u001b[0;34m\u001b[0m\u001b[0m\n\u001b[1;32m      5\u001b[0m \u001b[0mpred_arr\u001b[0m \u001b[0;34m=\u001b[0m \u001b[0;34m[\u001b[0m\u001b[0;34m]\u001b[0m\u001b[0;34m\u001b[0m\u001b[0;34m\u001b[0m\u001b[0m\n",
            "\u001b[0;31mNameError\u001b[0m: name 'np' is not defined"
          ]
        }
      ],
      "source": [
        "import warnings\n",
        "warnings.filterwarnings(\"ignore\", category=np.VisibleDeprecationWarning) \n",
        "warnings.filterwarnings(\"ignore\", category=FutureWarning) \n",
        "\n",
        "pred_arr = []\n",
        "ground_truth = []\n",
        "\n",
        "\n",
        "for i in range(len(train_x)):\n",
        "  x =  torch.from_numpy(train_x[i]).to(torch.float32)\n",
        "  y =  torch.from_numpy(train_y[i]).squeeze().to(torch.float32)\n",
        "  pred = model.predict_seq(x.to_device)\n",
        "\n",
        "  if predict == 1:\n",
        "    save_pred = pred.detach().item()\n",
        "  else:\n",
        "    save_pred= pred.squeeze().detach().numpy()\n",
        "    y = y.detach().numpy()\n",
        "    print(y)\n",
        "    print(save_pred)\n",
        "    plt.plot(range(0,len(save_pred)), save_pred, label=\"prediction\")\n",
        "    plt.plot(range(0,len(save_pred)), y, label=\"actual\")\n",
        "    plt.legend()\n",
        "    plt.title(\"Air Quality Predictions\")\n",
        "    plt.ylabel(\"prediction\")\n",
        "    plt.xlabel(\"time step (in hrs)\")\n",
        "    plt.show()\n",
        "  #print(x.shape,x)\n",
        "  #print(y.shape,y)\n",
        "  #print(pred.shape,pred)\n",
        "\n",
        "#  x_axis.append(i)\n",
        "#  pred_arr.append(save_pred)\n",
        "#  ground_truth.append(y)\n",
        "\n",
        "plt.plot(x_axis, pred_arr, label=\"prediction\")\n",
        "plt.plot(x_axis, ground_truth, label=\"actual\")\n",
        "plt.legend()\n",
        "plt.title(\"Air Quality Predictions\")\n",
        "plt.ylabel(\"prediction\")\n",
        "plt.xlabel(\"time step (in hrs)\")\n",
        "plt.show()"
      ]
    },
    {
      "cell_type": "code",
      "execution_count": null,
      "metadata": {
        "id": "0369yvNdBwUY"
      },
      "outputs": [],
      "source": []
    }
  ],
  "metadata": {
    "colab": {
      "provenance": []
    },
    "gpuClass": "standard",
    "kernelspec": {
      "display_name": "Python 3",
      "name": "python3"
    },
    "accelerator": "GPU"
  },
  "nbformat": 4,
  "nbformat_minor": 0
}